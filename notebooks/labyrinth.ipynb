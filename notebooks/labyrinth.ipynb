{
 "cells": [
  {
   "cell_type": "code",
   "execution_count": 105,
   "metadata": {
    "ExecuteTime": {
     "end_time": "2018-10-24T13:51:31.058917Z",
     "start_time": "2018-10-24T13:51:31.053345Z"
    }
   },
   "outputs": [],
   "source": [
    "from bs4 import BeautifulSoup,Tag, NavigableString\n",
    "import os\n",
    "import numpy as np"
   ]
  },
  {
   "cell_type": "code",
   "execution_count": 121,
   "metadata": {
    "ExecuteTime": {
     "end_time": "2018-10-24T13:59:14.187423Z",
     "start_time": "2018-10-24T13:59:13.410188Z"
    }
   },
   "outputs": [],
   "source": [
    "html=open('labyrinth_edit.html')\n",
    "soup = BeautifulSoup(html, 'html.parser')"
   ]
  },
  {
   "cell_type": "code",
   "execution_count": 120,
   "metadata": {
    "ExecuteTime": {
     "end_time": "2018-10-24T13:58:55.753296Z",
     "start_time": "2018-10-24T13:58:55.748035Z"
    }
   },
   "outputs": [],
   "source": [
    "color_list = ['red', 'white', 'blue', 'yellow', 'purple', 'green', 'pink']\n",
    "color_ct = len(color_list)"
   ]
  },
  {
   "cell_type": "code",
   "execution_count": 122,
   "metadata": {
    "ExecuteTime": {
     "end_time": "2018-10-24T13:59:16.309135Z",
     "start_time": "2018-10-24T13:59:15.784930Z"
    }
   },
   "outputs": [],
   "source": [
    "rooms = soup.find_all('td', {'class':'section'})[3:]\n",
    "for rm in rooms:\n",
    "    entries = rm.parent.find_all('td', {'class':'detail'})\n",
    "    entry_ct = len(entries)\n",
    "    exits = rm.parent.find_all('td', {'class':'value'})\n",
    "    if entry_ct > color_ct:\n",
    "        clrs = np.random.choice(color_list, entry_ct, True)\n",
    "    else:\n",
    "        clrs = np.random.choice(color_list, entry_ct, False)\n",
    "    for drs in range(entry_ct):\n",
    "#         entries[drs].string = f'{entries[drs].string} <p> color = {clrs[drs]} </p>'\n",
    "        new_tag = soup.new_tag('p')\n",
    "        new_tag.string = f'color = {clrs[drs]}'\n",
    "#         new_string = NavigableString()\n",
    "        entries[drs].append(new_tag)\n",
    "        exits[drs]['color'] = clrs[drs]"
   ]
  },
  {
   "cell_type": "code",
   "execution_count": 123,
   "metadata": {
    "ExecuteTime": {
     "end_time": "2018-10-24T13:59:18.598448Z",
     "start_time": "2018-10-24T13:59:18.323533Z"
    }
   },
   "outputs": [],
   "source": [
    "# with open(\"labyrinth_edit_2.html\", \"wb\") as f_output:\n",
    "#     f_output.write(soup.prettify(\"utf-8\"))  \n",
    "with open(\"labyrinth_edit_2.html\", \"w\") as outf:\n",
    "    outf.write(str(soup.prettify))"
   ]
  },
  {
   "cell_type": "code",
   "execution_count": 91,
   "metadata": {
    "ExecuteTime": {
     "end_time": "2018-10-24T13:24:44.905540Z",
     "start_time": "2018-10-24T13:24:44.899926Z"
    }
   },
   "outputs": [],
   "source": [
    "aa = rm.parent.find_all('td', {'class':'detail'})\n",
    "aa[0].string = aa[0].string + ' color=blue'"
   ]
  },
  {
   "cell_type": "code",
   "execution_count": 92,
   "metadata": {
    "ExecuteTime": {
     "end_time": "2018-10-24T13:24:51.569511Z",
     "start_time": "2018-10-24T13:24:51.554130Z"
    }
   },
   "outputs": [
    {
     "data": {
      "text/plain": [
       "<tr>\n",
       "<td class=\"section\"><a id=\"1\" name=\"1\">Room #1</a></td>\n",
       "<td>\n",
       "<table class=\"section\">\n",
       "<tr>\n",
       "<td class=\"detail\">East Entrycolor=blue</td>\n",
       "<td class=\"value\" color=\"green\">Trapped and Unlocked Iron Door (60 hp)<p class=\"icon\">Ⓣ   Falling\n",
       "                        Block: DC 15 to find, DC 10 to disable; affects all targets within a 10 ft. square area, DC 10\n",
       "                        save or take 2d10 damage</p></td>\n",
       "</tr>\n",
       "<tr>\n",
       "<td class=\"detail\">South Entry</td>\n",
       "<td class=\"value\" color=\"yellow\">Locked Simple Wooden Door (DC 10 to open, DC 15 to break; 10 hp) (slides up)<p class=\"icon\">→   Leads to <a href=\"#17\">room #17</a>, inhabited by Hobgoblin\n",
       "                        Warlord and 1 x Hobgoblin</p></td>\n",
       "</tr>\n",
       "<tr class=\"empty\">\n",
       "<td colspan=\"2\"></td>\n",
       "</tr>\n",
       "<tr>\n",
       "<td class=\"key\">Empty</td>\n",
       "<td class=\"value\"> </td>\n",
       "</tr>\n",
       "</table>\n",
       "</td>\n",
       "</tr>"
      ]
     },
     "execution_count": 92,
     "metadata": {},
     "output_type": "execute_result"
    }
   ],
   "source": [
    "rooms[0].parent"
   ]
  },
  {
   "cell_type": "code",
   "execution_count": 80,
   "metadata": {
    "ExecuteTime": {
     "end_time": "2018-10-24T13:17:42.284872Z",
     "start_time": "2018-10-24T13:17:42.276440Z"
    }
   },
   "outputs": [
    {
     "data": {
      "text/plain": [
       "[<td class=\"value\">Locked Simple Wooden Door (DC 10 to open, DC 15 to break; 10 hp) (slides up)<p class=\"icon\">→   Leads to <a href=\"#1\">room #1</a></p></td>,\n",
       " <td class=\"value\">Trapped and Locked Good Wooden Door (DC 25 to open, DC 15 to break; 15 hp) (slides\n",
       "                         down)<p class=\"icon\">Ⓣ   One-way Door: DC 10 to find, DC 10 to disable</p>\n",
       " <p class=\"icon\">→   Leads to <a href=\"#29\">room #29</a>, inhabited by Orc War Chief\n",
       "                             and 6 x Orc</p></td>,\n",
       " <td class=\"value\">An enchanted pool in the center of the room summons a water elemental to serve\n",
       "                         whomever drinks from it (but only once), and a pile of iron spikes lies in the north-east corner\n",
       "                         of the room\n",
       "                     </td>,\n",
       " <td class=\"value\">Hobgoblin Warlord (cr 6, mm 187) and 1 x Hobgoblin (cr 1/2, mm 186); 2400 xp</td>]"
      ]
     },
     "execution_count": 80,
     "metadata": {},
     "output_type": "execute_result"
    }
   ],
   "source": [
    "rooms[16].parent.find_all('td', {'class':'value'})"
   ]
  },
  {
   "cell_type": "code",
   "execution_count": 66,
   "metadata": {
    "ExecuteTime": {
     "end_time": "2018-10-24T13:12:54.445207Z",
     "start_time": "2018-10-24T13:12:54.436403Z"
    }
   },
   "outputs": [
    {
     "data": {
      "text/plain": [
       "<td class=\"value\" color=\"red\">Locked Simple Wooden Door (DC 20 to open, DC 15 to break; 10 hp)<p class=\"icon\">\n",
       "                        →   Leads to <a href=\"#226\">room #226</a>, inhabited by Grick Alpha and 1 x Grick</p>\n",
       "</td>"
      ]
     },
     "execution_count": 66,
     "metadata": {},
     "output_type": "execute_result"
    }
   ],
   "source": [
    "aa[0]"
   ]
  },
  {
   "cell_type": "code",
   "execution_count": 65,
   "metadata": {
    "ExecuteTime": {
     "end_time": "2018-10-24T13:12:51.020505Z",
     "start_time": "2018-10-24T13:12:51.016079Z"
    }
   },
   "outputs": [],
   "source": [
    "aa[0]['color'] = 'red'"
   ]
  },
  {
   "cell_type": "code",
   "execution_count": 40,
   "metadata": {
    "ExecuteTime": {
     "end_time": "2018-10-24T13:05:56.078642Z",
     "start_time": "2018-10-24T13:05:56.072491Z"
    }
   },
   "outputs": [],
   "source": [
    "bb = rooms[3].parent.find_all('td', {'class':'detail'})"
   ]
  },
  {
   "cell_type": "code",
   "execution_count": 47,
   "metadata": {
    "ExecuteTime": {
     "end_time": "2018-10-24T13:07:56.239535Z",
     "start_time": "2018-10-24T13:07:56.230439Z"
    }
   },
   "outputs": [
    {
     "data": {
      "text/plain": [
       "[<td class=\"value\">Trapped and Unlocked Iron Door (60 hp)<p class=\"icon\">Ⓣ   Falling\n",
       "                         Block: DC 15 to find, DC 10 to disable; affects all targets within a 10 ft. square area, DC 10\n",
       "                         save or take 2d10 damage</p></td>,\n",
       " <td class=\"value\">Locked Simple Wooden Door (DC 10 to open, DC 15 to break; 10 hp) (slides up)<p class=\"icon\">→   Leads to <a href=\"#17\">room #17</a>, inhabited by Hobgoblin\n",
       "                         Warlord and 1 x Hobgoblin</p></td>,\n",
       " <td class=\"value\"> </td>]"
      ]
     },
     "execution_count": 47,
     "metadata": {},
     "output_type": "execute_result"
    }
   ],
   "source": [
    "rooms[3].parent.find_all('td', {'class':'value'})"
   ]
  },
  {
   "cell_type": "code",
   "execution_count": 45,
   "metadata": {
    "ExecuteTime": {
     "end_time": "2018-10-24T13:06:47.560156Z",
     "start_time": "2018-10-24T13:06:47.551661Z"
    }
   },
   "outputs": [
    {
     "data": {
      "text/plain": [
       "['\\n',\n",
       " <td class=\"value\">Trapped and Unlocked Iron Door (60 hp)<p class=\"icon\">Ⓣ   Falling\n",
       "                         Block: DC 15 to find, DC 10 to disable; affects all targets within a 10 ft. square area, DC 10\n",
       "                         save or take 2d10 damage</p></td>,\n",
       " '\\n']"
      ]
     },
     "execution_count": 45,
     "metadata": {},
     "output_type": "execute_result"
    }
   ],
   "source": [
    "[x for x in bb[0].next_siblings] "
   ]
  },
  {
   "cell_type": "code",
   "execution_count": 32,
   "metadata": {
    "ExecuteTime": {
     "end_time": "2018-10-24T13:04:07.515075Z",
     "start_time": "2018-10-24T13:04:07.498304Z"
    }
   },
   "outputs": [
    {
     "data": {
      "text/plain": [
       "<tr>\n",
       "<td class=\"section\"><a id=\"2\" name=\"2\">Room #2</a></td>\n",
       "<td>\n",
       "<table class=\"section\">\n",
       "<tr>\n",
       "<td class=\"detail\">West Entry</td>\n",
       "<td class=\"value\">Stuck Simple Wooden Door (DC 10 to break; 10 hp)</td>\n",
       "</tr>\n",
       "<tr>\n",
       "<td class=\"detail\">East Entry</td>\n",
       "<td class=\"value\">Secret (DC 15 to find) Locked Good Wooden Door (DC 15 to open, DC 15 to break; 15\n",
       "                        hp)<p class=\"icon\">Ⓢ   The door is concealed within an upright sarcophagus</p>\n",
       "<p class=\"icon\">→   Leads to <a href=\"#3\">room #3</a>, inhabited by 1 x Ghost</p></td>\n",
       "</tr>\n",
       "<tr class=\"empty\">\n",
       "<td colspan=\"2\"></td>\n",
       "</tr>\n",
       "<tr>\n",
       "<td class=\"key\">Room Features</td>\n",
       "<td class=\"value\">A magical idol of a goddess of dwarves in the east side of the room heals all\n",
       "                        wounds of whomever offers a prayer (but only once), and a forge and anvil sit in the north-east\n",
       "                        corner of the room\n",
       "                    </td>\n",
       "</tr>\n",
       "<tr>\n",
       "<td class=\"key\">Monster</td>\n",
       "<td class=\"value\">1 x Chimera (cr 6, mm 39); 2300 xp</td>\n",
       "</tr>\n",
       "</table>\n",
       "</td>\n",
       "</tr>"
      ]
     },
     "execution_count": 32,
     "metadata": {},
     "output_type": "execute_result"
    }
   ],
   "source": [
    "aa.parent"
   ]
  },
  {
   "cell_type": "code",
   "execution_count": null,
   "metadata": {},
   "outputs": [],
   "source": [
    "soup.find_all"
   ]
  }
 ],
 "metadata": {
  "kernelspec": {
   "display_name": "Python 3",
   "language": "python",
   "name": "python3"
  },
  "language_info": {
   "codemirror_mode": {
    "name": "ipython",
    "version": 3
   },
   "file_extension": ".py",
   "mimetype": "text/x-python",
   "name": "python",
   "nbconvert_exporter": "python",
   "pygments_lexer": "ipython3",
   "version": "3.6.4"
  }
 },
 "nbformat": 4,
 "nbformat_minor": 2
}
